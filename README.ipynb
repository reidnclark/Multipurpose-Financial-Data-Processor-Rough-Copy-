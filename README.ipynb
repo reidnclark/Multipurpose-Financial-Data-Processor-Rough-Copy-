
def greet(name):
    """A simple function to greet a person by name."""
    return f"Hello, {name}! Welcome to the project."

if __name__ == "__main__":
    user_name = input("Enter your name: ")
    greeting = greet(user_name)
    print(greeting)
