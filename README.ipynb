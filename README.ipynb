
Multipurpose Financial Data Processor
Reid Clark, Jan 2024

Language: Python
Main Libraries Used: pandas, numpy, yfinance, yahoo_fin

Capabilities: Valuation, Graph Visualization, Predictive Price Targets, General Financial Analysis
